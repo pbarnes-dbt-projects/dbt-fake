{
 "cells": [
  {
   "cell_type": "code",
   "execution_count": 1,
   "metadata": {},
   "outputs": [],
   "source": [
    "import faker\n",
    "import pandas as pd\n",
    "import faker_commerce\n",
    "import random\n",
    "from datetime import date, timedelta\n",
    "fake = faker.Faker()\n",
    "fake.add_provider(faker_commerce.Provider)\n",
    "\n",
    "pd.set_option('display.max_colwidth', None)"
   ]
  },
  {
   "cell_type": "markdown",
   "metadata": {},
   "source": [
    "## Create fake companies"
   ]
  },
  {
   "cell_type": "code",
   "execution_count": null,
   "metadata": {},
   "outputs": [],
   "source": [
    "## Utilities"
   ]
  },
  {
   "cell_type": "code",
   "execution_count": 2,
   "metadata": {},
   "outputs": [],
   "source": [
    "def get_unique_fakes(provider, num_records):\n",
    "    # To ensure we get enough records we will initially generate 2X the number needed \n",
    "    records = [provider() for x in range(num_records * 2)]\n",
    "    unique_records = list(set(records))\n",
    "    if len(unique_records) < num_records:\n",
    "        raise Exception('Not enough unique records. Try generating fewer records.')\n",
    "    return unique_records[0:num_records]\n"
   ]
  },
  {
   "cell_type": "markdown",
   "metadata": {},
   "source": [
    "## Create fake companies"
   ]
  },
  {
   "cell_type": "code",
   "execution_count": 3,
   "metadata": {},
   "outputs": [],
   "source": [
    "num_companies = 10_000\n",
    "company_name_provider = lambda : fake.company() + ' ' + fake.company_suffix()  # Adding suffix give more uniqe names\n",
    "company_names = get_unique_fakes(company_name_provider, num_companies)\n",
    "company_slogans = get_unique_fakes(fake.catch_phrase, num_companies)\n",
    "company_purposes = get_unique_fakes(fake.bs, num_companies)\n",
    "\n",
    "companies = zip(company_names, company_slogans, company_purposes)\n",
    "company_records = [{'name': company[0], 'slogan': company[1], 'purpose': company[2]} for company in companies]\n",
    "companies_df = pd.DataFrame(company_records)\n",
    "companies_df.index.rename('id', inplace=True)\n",
    "companies_df.head()\n",
    "companies_df.to_csv('../seeds/sources/fake_companies.csv')\n"
   ]
  },
  {
   "cell_type": "markdown",
   "metadata": {},
   "source": [
    "## Create dates "
   ]
  },
  {
   "cell_type": "code",
   "execution_count": 5,
   "metadata": {},
   "outputs": [],
   "source": [
    "start_date = date(2023, 1, 1)\n",
    "end_date = date(2029, 12, 31)\n",
    "num_added_days = (end_date - start_date).days + 1\n",
    "dates = [start_date + timedelta(days=day) for day in range(num_added_days)]\n",
    "dates_df = pd.DataFrame({'date': dates})\n",
    "dates_df.head()\n",
    "dates_df.to_csv('../seeds/sources/fake_dates.csv', index=False)"
   ]
  },
  {
   "cell_type": "markdown",
   "metadata": {},
   "source": [
    "## Create number range"
   ]
  },
  {
   "cell_type": "code",
   "execution_count": 11,
   "metadata": {},
   "outputs": [],
   "source": [
    "numbers = []\n",
    "for number in range(1, 101):\n",
    "    numbers.extend([number] * number)\n",
    "numbers_df = pd.DataFrame({'number': numbers})\n",
    "numbers_df.head(10)\n",
    "\n",
    "numbers_df.to_csv('../seeds/sources/fake_numbers.csv', index=False)"
   ]
  },
  {
   "cell_type": "markdown",
   "metadata": {},
   "source": [
    "## Create fake products"
   ]
  },
  {
   "cell_type": "code",
   "execution_count": 6,
   "metadata": {},
   "outputs": [],
   "source": [
    "def generate_product():\n",
    "    return {\n",
    "        'category': fake.ecommerce_category(),\n",
    "        'name': fake.ecommerce_name(),\n",
    "        'price': random.randrange(3, 2500) + random.randrange(0, 99) / 100\n",
    "    }\n",
    "            \n",
    "products = [generate_product() for i in range(10_000)]\n",
    "products_df = pd.DataFrame(products)\n",
    "products_df.index.rename('id', inplace=True)\n",
    "products_df\n",
    "products_df.to_csv('../seeds/sources/fake_products.csv', index=True)\n"
   ]
  },
  {
   "cell_type": "markdown",
   "metadata": {},
   "source": [
    "## Create fake people"
   ]
  },
  {
   "cell_type": "code",
   "execution_count": 18,
   "metadata": {},
   "outputs": [
    {
     "name": "stdout",
     "output_type": "stream",
     "text": [
      "     first_name  last_name gender      phone_number  \\\n",
      "id                                                    \n",
      "0       Jeffery  Hernandez    [M]  +81 - 9519266153   \n",
      "1     Christine     Carter    [M]   +1 - 3122887570   \n",
      "2          Tina     Archer    [M]  +86 - 9703656592   \n",
      "3        Robert      Baker    [F]  +44 - 8193626775   \n",
      "4   Christopher       Reid    [M]   +1 - 3998496705   \n",
      "\n",
      "                                                                                                             address  \\\n",
      "id                                                                                                                     \n",
      "0            {'street_address': '95970 Shelton Park', 'city': 'West Caleb', 'state': 'Nebraska', 'zipcode': '27948'}   \n",
      "1            {'street_address': '43716 Brian Glen', 'city': 'Juanborough', 'state': 'Tennessee', 'zipcode': '46164'}   \n",
      "2                 {'street_address': '030 Perez Burg', 'city': 'Scottmouth', 'state': 'Wyoming', 'zipcode': '18661'}   \n",
      "3   {'street_address': '787 Johnston Avenue Suite 302', 'city': 'North Mark', 'state': 'Oregon', 'zipcode': '28536'}   \n",
      "4    {'street_address': '094 Cain Trace Apt. 122', 'city': 'East Whitney', 'state': 'Wisconsin', 'zipcode': '38916'}   \n",
      "\n",
      "     birthdate blood_type  favorite_color  credit_score  \n",
      "id                                                       \n",
      "0   1996-10-21         A-       PaleGreen           622  \n",
      "1   1970-05-30         B+            Snow           649  \n",
      "2   1967-07-11         B+        SeaShell           328  \n",
      "3   1948-03-27         B+          Violet           812  \n",
      "4   1979-12-11         O-  BlanchedAlmond           316  \n"
     ]
    }
   ],
   "source": [
    "def generate_people_info():\n",
    "    country_code = random.choice(['+1', '+44', '+91', '+81', '+86'])  # Add more country codes as needed\n",
    "    phone_number = fake.numerify('##########')  # Assuming 10-digit phone numbers\n",
    "    gender = random.choices(['M', 'F', 'X'], weights=(49,49,1))\n",
    "    if gender == 'M':\n",
    "        first_name = fake.first_name_male()\n",
    "    elif gender == 'F':\n",
    "        first_name = fake.first_name_female()\n",
    "    else:\n",
    "        first_name = fake.first_name_nonbinary()\n",
    "\n",
    "    last_name = fake.last_name()\n",
    "\n",
    "    return {\n",
    "        'first_name' : first_name,\n",
    "        'last_name' : last_name,\n",
    "        'gender' : gender,\n",
    "        'phone_number': f'{country_code} - {phone_number}',\n",
    "        'address': {\n",
    "            'street_address': fake.street_address(),\n",
    "            'city': fake.city(),\n",
    "            'state': fake.state(),\n",
    "            'zipcode': fake.zipcode(),\n",
    "        },\n",
    "        'birthdate': fake.date_of_birth(minimum_age=18, maximum_age=80).strftime('%Y-%m-%d'),\n",
    "        'blood_type': random.choice(['A+', 'B+', 'AB+', 'O+', 'A-', 'B-', 'AB-', 'O-']),  # Less common column\n",
    "        'favorite_color': fake.color_name(),  # Less common column\n",
    "        'credit_score': random.randint(300, 850),  # Less common column\n",
    "    }\n",
    "\n",
    "p_info = [generate_people_info() for _ in range(10_000)]\n",
    "p_info_df = pd.DataFrame(p_info)\n",
    "p_info_df.index.rename('id', inplace=True)\n",
    "\n",
    "# Display the DataFrame\n",
    "print(p_info_df.head())\n",
    "p_info_df.to_csv('../seeds/sources/fake_personal_info.csv')\n"
   ]
  },
  {
   "cell_type": "code",
   "execution_count": null,
   "metadata": {},
   "outputs": [],
   "source": []
  }
 ],
 "metadata": {
  "kernelspec": {
   "display_name": "Python 3 (ipykernel)",
   "language": "python",
   "name": "python3"
  },
  "language_info": {
   "codemirror_mode": {
    "name": "ipython",
    "version": 3
   },
   "file_extension": ".py",
   "mimetype": "text/x-python",
   "name": "python",
   "nbconvert_exporter": "python",
   "pygments_lexer": "ipython3",
   "version": "3.12.0"
  }
 },
 "nbformat": 4,
 "nbformat_minor": 2
}
